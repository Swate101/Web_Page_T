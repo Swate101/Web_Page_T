{
 "cells": [
  {
   "cell_type": "markdown",
   "id": "64df7242",
   "metadata": {},
   "source": [
    "<body>\n",
    "  <h1>The Brown Bear</h1>\n",
    "  <div id=\"introduction\">\n",
    "    <h2>About Brown Bears</h2>\n",
    "    <p>The brown bear (<em>Ursus arctos</em>) is native to parts of northern Eurasia and North America. Its conservation status is currently <strong>Least Concern</strong>.<br /><br /> There are many subspecies within the brown bear species, including the Atlas bear and the Himalayan brown bear.</p>\n",
    "    <h3>Species</h3>\n",
    "    <ul>\n",
    "      <li>Arctos</li>\n",
    "      <li>Collarus</li>\n",
    "      <li>Horribilis</li>\n",
    "      <li>Nelsoni (extinct)</li>\n",
    "    </ul>\n",
    "    <h3>Features</h3>\n",
    "    <p>Brown bears are not always completely brown. Some can be reddish or yellowish. They have very large, curved claws and huge paws. Male brown bears are often 30% larger than female brown bears. They can range from 5 feet to 9 feet from head to toe.</p>\n",
    "  </div>\n",
    "  <div id=\"habitat\">\n",
    "    <h2>Habitat</h2>\n",
    "    <h3>Countries with Large Brown Bear Populations</h3>\n",
    "    <ol>\n",
    "      <li>Russia</li>\n",
    "      <li>United States</li>\n",
    "      <li>Canada</li>\n",
    "    </ol>\n",
    "    <h3>Countries with Small Brown Bear Populations</h3>\n",
    "    <p>Some countries with smaller brown bear populations include Armenia, Belarus, Bulgaria, China, Finland, France, Greece, India, Japan, Nepal, Poland, Romania, Slovenia, Turkmenistan, and Uzbekistan.</p>\n",
    "  </div>\n",
    "  <div id=\"media\">\n",
    "    <h2>Media</h2>\n",
    "    <img src=\"https://content.codecademy.com/courses/web-101/web101-image_brownbear.jpg\" alt=\"A Brown Bear\"/>\n",
    "      <video src=\"https://content.codecademy.com/courses/freelance-1/unit-1/lesson-2/htmlcss1-vid_brown-bear.mp4\"width=\"320\" height=\"240\" controls> Video not supported </video>\n",
    "  </div>\n",
    "</body>\n"
   ]
  },
  {
   "cell_type": "code",
   "execution_count": null,
   "id": "98c2f9ad",
   "metadata": {},
   "outputs": [],
   "source": []
  }
 ],
 "metadata": {
  "kernelspec": {
   "display_name": "Python 3 (ipykernel)",
   "language": "python",
   "name": "python3"
  },
  "language_info": {
   "codemirror_mode": {
    "name": "ipython",
    "version": 3
   },
   "file_extension": ".py",
   "mimetype": "text/x-python",
   "name": "python",
   "nbconvert_exporter": "python",
   "pygments_lexer": "ipython3",
   "version": "3.7.13"
  }
 },
 "nbformat": 4,
 "nbformat_minor": 5
}
